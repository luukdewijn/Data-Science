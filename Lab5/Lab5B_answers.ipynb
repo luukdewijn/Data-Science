{
 "cells": [
  {
   "cell_type": "markdown",
   "metadata": {},
   "source": [
    "# **Lab 5B: Regression Trees**\n",
    "\n",
    "**WHAT** This nonmandatory lab consists of several programming and insight exercises/questions.\n",
    "\n",
    "**WHY** The exercises are meant to get some experience fitting Regression Trees.\n",
    "\n",
    "**HOW** Follow the exercises in this notebook either on your own or with a fellow student. Work your way through these exercises at your own pace and be sure to ask questions to the TA's when you don't understand something.\n",
    "\n",
    "$\\newcommand{\\q}[1]{\\rightarrow \\textbf{Question #1}.}$\n",
    "$\\newcommand{\\ex}[1]{\\rightarrow \\textbf{Exercise #1}.}$"
   ]
  },
  {
   "cell_type": "markdown",
   "metadata": {},
   "source": [
    "<div style=\"background-color:#c2eafa\">\n",
    "\n",
    "There are no questions or assignments in this lab. It would have been easy to do this in parallel to Lab5A. It is recommended that you experiment some on your own, preferable also doing some model comparison, selection, and evaluation."
   ]
  },
  {
   "cell_type": "markdown",
   "metadata": {},
   "source": [
    "\n",
    "[//]: # (START ANSWER)\n",
    "> 1. Use more features of the IOWA data set\n",
    "> 2. Set up cross-validation\n",
    "\n",
    "[//]: # (END ANSWER)"
   ]
  },
  {
   "cell_type": "code",
   "execution_count": null,
   "metadata": {},
   "outputs": [],
   "source": [
    "import pandas as pd\n",
    "import numpy as np\n",
    "# import seaborn as sns\n",
    "import matplotlib.pyplot as plt\n",
    "from sklearn.tree import DecisionTreeRegressor, plot_tree, export_graphviz, export_text\n",
    "from IPython.display import Image\n",
    "from sklearn.metrics import mean_squared_error\n",
    "import math"
   ]
  },
  {
   "cell_type": "code",
   "execution_count": null,
   "metadata": {},
   "outputs": [],
   "source": [
    "train = pd.read_excel('IOWA_Training_Data.xlsx')\n",
    "# 1 = good, 0 = default\n",
    "print(train.head())"
   ]
  },
  {
   "cell_type": "code",
   "execution_count": null,
   "metadata": {},
   "outputs": [],
   "source": [
    "# remove target column to create feature only dataset\n",
    "X_train = train.drop('Sale Price',axis=1)\n",
    "colnames = list(X_train.columns)\n",
    "# store target column\n",
    "y_train = train['Sale Price']\n",
    "print(X_train.shape, y_train.shape)"
   ]
  },
  {
   "cell_type": "code",
   "execution_count": null,
   "metadata": {},
   "outputs": [],
   "source": [
    "pred = DecisionTreeRegressor(criterion='squared_error',max_depth=3,random_state=0)\n",
    "pred = pred.fit(X_train,y_train)\n",
    "fig, ax = plt.subplots(figsize=(40, 30))\n",
    "plot_tree(pred, filled=True, feature_names=colnames, proportion=False)\n",
    "plt.show()"
   ]
  },
  {
   "cell_type": "code",
   "execution_count": null,
   "metadata": {},
   "outputs": [],
   "source": [
    "r = export_text(pred,feature_names=['OverallQual','GRLivArea'])"
   ]
  },
  {
   "cell_type": "code",
   "execution_count": null,
   "metadata": {},
   "outputs": [],
   "source": [
    "print(r)"
   ]
  },
  {
   "cell_type": "code",
   "execution_count": null,
   "metadata": {},
   "outputs": [],
   "source": [
    "validation = pd.read_excel('IOWA_Validation_Data.xlsx')\n",
    "# 1 = good, 0 = default\n",
    "print(validation.head())"
   ]
  },
  {
   "cell_type": "code",
   "execution_count": null,
   "metadata": {},
   "outputs": [],
   "source": [
    "# remove target column to create feature only dataset\n",
    "X_validation = validation.drop('Sale Price',axis=1)\n",
    "# store target column\n",
    "y_validation = validation['Sale Price']\n",
    "print(X_validation.shape, y_validation.shape)"
   ]
  },
  {
   "cell_type": "code",
   "execution_count": null,
   "metadata": {},
   "outputs": [],
   "source": [
    "test = pd.read_excel('IOWA_Test_Data.xlsx')\n",
    "# 1 = good, 0 = default\n",
    "print(test.head())"
   ]
  },
  {
   "cell_type": "code",
   "execution_count": null,
   "metadata": {},
   "outputs": [],
   "source": [
    "# remove target column to create feature only dataset\n",
    "X_test = test.drop('Sale Price',axis=1)\n",
    "# store target column\n",
    "y_test = test['Sale Price']\n",
    "print(X_test.shape, y_test.shape)"
   ]
  },
  {
   "cell_type": "code",
   "execution_count": null,
   "metadata": {},
   "outputs": [],
   "source": [
    "y_pred_train=pred.predict(X_train)\n",
    "mse = mean_squared_error(y_pred_train,y_train)\n",
    "rmse=math.sqrt(mse)\n",
    "print(f\"rmse for training set  : {rmse:8.3f}\")\n",
    "\n",
    "y_pred_validation=pred.predict(X_validation)\n",
    "mse = mean_squared_error(y_pred_validation,y_validation)\n",
    "rmse=math.sqrt(mse)\n",
    "print(f\"rmse for validation set: {rmse:8.3f}\")\n",
    "\n",
    "y_pred_test=pred.predict(X_test)\n",
    "mse = mean_squared_error(y_pred_test,y_test)\n",
    "rmse=math.sqrt(mse)\n",
    "print(f\"rmse for test set      : {rmse:8.3f}\")"
   ]
  }
 ],
 "metadata": {
  "kernelspec": {
   "display_name": "Python 3 (ipykernel)",
   "language": "python",
   "name": "python3"
  },
  "language_info": {
   "codemirror_mode": {
    "name": "ipython",
    "version": 3
   },
   "file_extension": ".py",
   "mimetype": "text/x-python",
   "name": "python",
   "nbconvert_exporter": "python",
   "pygments_lexer": "ipython3",
   "version": "3.11.2"
  }
 },
 "nbformat": 4,
 "nbformat_minor": 4
}
